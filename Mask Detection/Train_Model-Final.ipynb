{
 "cells": [
  {
   "cell_type": "markdown",
   "id": "10dc6edc",
   "metadata": {},
   "source": [
    "**Final Project Computer Vision**\n",
    "\n",
    "**Kelompok 10**\n",
    "\n",
    "Anggota Kelompok:\n",
    "\n",
    "Nama  : Rio Pramana, Debora\n",
    "\n",
    "NIM   : 2440016804, 2440087214\n",
    "\n",
    "Kelas : LA01\n",
    "\n",
    "Although there are comments in the notebook that will explain some of the code, most of the explanations for the code are provided in the paper"
   ]
  },
  {
   "cell_type": "markdown",
   "id": "640a25fe",
   "metadata": {},
   "source": [
    "# Import libraries"
   ]
  },
  {
   "cell_type": "code",
   "execution_count": 1,
   "id": "ef1519e1",
   "metadata": {},
   "outputs": [],
   "source": [
    "from keras import Sequential, callbacks\n",
    "from keras.layers import Flatten, Dense, Conv2D, BatchNormalization, Dropout, MaxPooling2D\n",
    "from keras.preprocessing.image import ImageDataGenerator\n",
    "from keras.optimizers import Adam\n",
    "\n",
    "import numpy as np # linear algebra\n",
    "import pandas as pd # data processing, CSV file I/O (e.g. pd.read_csv)\n",
    "import cv2\n",
    "from scipy.spatial import distance\n",
    "import os\n",
    "import matplotlib.pyplot as plt"
   ]
  },
  {
   "cell_type": "markdown",
   "id": "06c30de0",
   "metadata": {},
   "source": [
    "# Initialize parameters"
   ]
  },
  {
   "cell_type": "code",
   "execution_count": 2,
   "id": "f0482f0e",
   "metadata": {},
   "outputs": [],
   "source": [
    "resized_dim = 128 # resize image menjadi 128 x 128\n",
    "batch_size = 16 # menggunakan batch size 16 untuk mini-batch learning\n",
    "n_features = 64 # Output features layer pertama\n",
    "nb_classes = 2  # Jumlah class yang akan di predict ada 2, yaitu 'WithMask' & 'WithoutMask'\n",
    "epochs = 40 # Jumlah maximum epochs yang akan digunakan untuk training model\n",
    "\n",
    "# Arsitektur\n",
    "kernel_size = (3, 3) # Size kernel\n",
    "dropout_p = 0.3 # Probability dropout\n",
    "\n",
    "#Load train and test set\n",
    "train_dir = './Train'\n",
    "test_dir = './Test'\n",
    "val_dir = './Validation'"
   ]
  },
  {
   "cell_type": "markdown",
   "id": "23781e2f",
   "metadata": {},
   "source": [
    "# Load Data & Data Augmentation"
   ]
  },
  {
   "cell_type": "markdown",
   "id": "c1d950b7",
   "metadata": {},
   "source": [
    "Pada keras, terdapat ImageDataGenerator yang dapat melakukan preprocessing dan augmentasi data pada data-data images yang kita miliki\n",
    "\n",
    "ImageDataGenerator ini juga sekaligus bisa digunakan untuk melakukan splitting test set dan validation set\n",
    "\n",
    "Maka, kedua proses tersebut saya jadikan 1 pada code block dibawah ini"
   ]
  },
  {
   "cell_type": "markdown",
   "id": "ac62d671",
   "metadata": {},
   "source": [
    "Augmentasi data hanya boleh dilakukan untuk train set saja\n",
    "\n",
    "Maka, untuk train set saya terapkan beberapa seperti 20% shear range dan zoom range serta horizontal flip\n",
    "\n",
    "Kemudian rescale dilakukan untuk seluruh dataset agar scalenya menjadi 0 - 1\n",
    "\n",
    "Untuk training validation test split, dilakukan split menjadi rasio 80-10-10"
   ]
  },
  {
   "cell_type": "code",
   "execution_count": 3,
   "id": "0d4071dc",
   "metadata": {},
   "outputs": [
    {
     "name": "stdout",
     "output_type": "stream",
     "text": [
      "Found 10000 images belonging to 2 classes.\n",
      "Found 1250 images belonging to 2 classes.\n",
      "Found 1250 images belonging to 2 classes.\n"
     ]
    }
   ],
   "source": [
    "# Data augmentation\n",
    "\n",
    "train_datagen = ImageDataGenerator(\n",
    "    rescale=1.0/255, \n",
    "    horizontal_flip=True, #randomly flip images horizontally\n",
    "    zoom_range=0.2, #randomly zoom image\n",
    "    shear_range=0.2 \n",
    ")\n",
    "train_generator = train_datagen.flow_from_directory(\n",
    "    directory=train_dir,\n",
    "    target_size=(resized_dim,resized_dim), #resize image menjadi 128 x 128\n",
    "    class_mode='categorical',\n",
    "    batch_size=batch_size,\n",
    "    seed = 42,\n",
    "    shuffle = True\n",
    ")\n",
    "\n",
    "val_datagen = ImageDataGenerator(rescale=1.0/255)\n",
    "val_generator = val_datagen.flow_from_directory(\n",
    "    directory=val_dir,\n",
    "    target_size=(resized_dim,resized_dim),\n",
    "    class_mode='categorical',\n",
    "    batch_size=batch_size,\n",
    "    seed = 42,\n",
    "    shuffle = False\n",
    ")\n",
    "\n",
    "test_datagen = ImageDataGenerator(rescale=1.0/255)\n",
    "test_generator = test_datagen.flow_from_directory(\n",
    "    directory=test_dir,\n",
    "    target_size=(resized_dim,resized_dim),\n",
    "    class_mode='categorical',\n",
    "    batch_size=batch_size,\n",
    "    shuffle = False\n",
    ")"
   ]
  },
  {
   "cell_type": "markdown",
   "id": "d1551303",
   "metadata": {},
   "source": [
    "# Building the model"
   ]
  },
  {
   "cell_type": "code",
   "execution_count": 4,
   "id": "07108d4f",
   "metadata": {},
   "outputs": [
    {
     "name": "stdout",
     "output_type": "stream",
     "text": [
      "Model: \"sequential\"\n",
      "_________________________________________________________________\n",
      " Layer (type)                Output Shape              Param #   \n",
      "=================================================================\n",
      " conv2d (Conv2D)             (None, 128, 128, 64)      1792      \n",
      "                                                                 \n",
      " batch_normalization (BatchN  (None, 128, 128, 64)     256       \n",
      " ormalization)                                                   \n",
      "                                                                 \n",
      " max_pooling2d (MaxPooling2D  (None, 64, 64, 64)       0         \n",
      " )                                                               \n",
      "                                                                 \n",
      " dropout (Dropout)           (None, 64, 64, 64)        0         \n",
      "                                                                 \n",
      " conv2d_1 (Conv2D)           (None, 64, 64, 32)        18464     \n",
      "                                                                 \n",
      " batch_normalization_1 (Batc  (None, 64, 64, 32)       128       \n",
      " hNormalization)                                                 \n",
      "                                                                 \n",
      " max_pooling2d_1 (MaxPooling  (None, 32, 32, 32)       0         \n",
      " 2D)                                                             \n",
      "                                                                 \n",
      " dropout_1 (Dropout)         (None, 32, 32, 32)        0         \n",
      "                                                                 \n",
      " conv2d_2 (Conv2D)           (None, 30, 30, 16)        4624      \n",
      "                                                                 \n",
      " batch_normalization_2 (Batc  (None, 30, 30, 16)       64        \n",
      " hNormalization)                                                 \n",
      "                                                                 \n",
      " max_pooling2d_2 (MaxPooling  (None, 15, 15, 16)       0         \n",
      " 2D)                                                             \n",
      "                                                                 \n",
      " dropout_2 (Dropout)         (None, 15, 15, 16)        0         \n",
      "                                                                 \n",
      " flatten (Flatten)           (None, 3600)              0         \n",
      "                                                                 \n",
      " dense (Dense)               (None, 32)                115232    \n",
      "                                                                 \n",
      " dropout_3 (Dropout)         (None, 32)                0         \n",
      "                                                                 \n",
      " dense_1 (Dense)             (None, 2)                 66        \n",
      "                                                                 \n",
      "=================================================================\n",
      "Total params: 140,626\n",
      "Trainable params: 140,402\n",
      "Non-trainable params: 224\n",
      "_________________________________________________________________\n"
     ]
    }
   ],
   "source": [
    "model = Sequential()\n",
    "\n",
    "# Conv2D pertama + activation relu\n",
    "model.add(Conv2D(n_features, kernel_size, input_shape=[resized_dim, resized_dim, 3], padding='same', activation='relu'))\n",
    "# MaxPooling2D pertama\n",
    "model.add(BatchNormalization())\n",
    "model.add(MaxPooling2D(pool_size=(2, 2)))\n",
    "model.add(Dropout(dropout_p))\n",
    "n_features /= 2 # Bagi n_features dengan 2\n",
    "\n",
    "# Conv2D kedua + activation relu\n",
    "model.add(Conv2D(n_features, kernel_size, padding='same', activation='relu'))\n",
    "model.add(BatchNormalization())\n",
    "# MaxPooling2D kedua\n",
    "model.add(MaxPooling2D(pool_size=(2, 2)))\n",
    "model.add(Dropout(dropout_p))\n",
    "n_features /= 2\n",
    "\n",
    "# Conv2D ketiga + activation relu\n",
    "model.add(Conv2D(n_features, kernel_size, activation='relu'))\n",
    "model.add(BatchNormalization())\n",
    "# MaxPooling2D ketiga\n",
    "model.add(MaxPooling2D(pool_size=(2, 2)))\n",
    "model.add(Dropout(dropout_p))\n",
    "\n",
    "# Flatten\n",
    "model.add(Flatten())\n",
    "\n",
    "# Dense\n",
    "model.add(Dense(32, activation='relu'))\n",
    "model.add(Dropout(dropout_p))\n",
    "model.add(Dense(nb_classes, activation='softmax'))\n",
    "\n",
    "optim = Adam(learning_rate=0.01)\n",
    "model.compile(optimizer=optim,loss=\"categorical_crossentropy\",metrics =\"accuracy\")\n",
    "model.summary()"
   ]
  },
  {
   "cell_type": "markdown",
   "id": "c98f8205",
   "metadata": {},
   "source": [
    "# Training the model while avoiding overfitting"
   ]
  },
  {
   "cell_type": "code",
   "execution_count": 5,
   "id": "ce2d19e2",
   "metadata": {},
   "outputs": [
    {
     "name": "stdout",
     "output_type": "stream",
     "text": [
      "Epoch 1/40\n",
      "39/39 [==============================] - 20s 484ms/step - loss: 1.1539 - accuracy: 0.7644 - val_loss: 0.2105 - val_accuracy: 0.9375\n",
      "Epoch 2/40\n",
      "39/39 [==============================] - 19s 468ms/step - loss: 0.4717 - accuracy: 0.8670 - val_loss: 0.9786 - val_accuracy: 0.2812\n",
      "Epoch 3/40\n",
      "39/39 [==============================] - 20s 502ms/step - loss: 0.3034 - accuracy: 0.8462 - val_loss: 0.4582 - val_accuracy: 0.7812\n",
      "Epoch 4/40\n",
      "39/39 [==============================] - 21s 523ms/step - loss: 0.2530 - accuracy: 0.9151 - val_loss: 3.6230 - val_accuracy: 0.5000\n",
      "Epoch 5/40\n",
      "39/39 [==============================] - 20s 503ms/step - loss: 0.2364 - accuracy: 0.9279 - val_loss: 0.6488 - val_accuracy: 0.8281\n",
      "Epoch 6/40\n",
      "39/39 [==============================] - 20s 506ms/step - loss: 0.3492 - accuracy: 0.9022 - val_loss: 0.1618 - val_accuracy: 0.9531\n",
      "Epoch 7/40\n",
      "39/39 [==============================] - 20s 508ms/step - loss: 0.2660 - accuracy: 0.8974 - val_loss: 0.1578 - val_accuracy: 0.9375\n",
      "Epoch 8/40\n",
      "39/39 [==============================] - 20s 505ms/step - loss: 0.2764 - accuracy: 0.8702 - val_loss: 0.4238 - val_accuracy: 0.8594\n",
      "Epoch 9/40\n",
      "39/39 [==============================] - 19s 490ms/step - loss: 0.1565 - accuracy: 0.9487 - val_loss: 0.1717 - val_accuracy: 0.9375\n",
      "Epoch 10/40\n",
      "39/39 [==============================] - 19s 487ms/step - loss: 0.2611 - accuracy: 0.9295 - val_loss: 0.8351 - val_accuracy: 0.6875\n",
      "Epoch 11/40\n",
      "39/39 [==============================] - 19s 486ms/step - loss: 0.2139 - accuracy: 0.9231 - val_loss: 0.1507 - val_accuracy: 0.9219\n",
      "Epoch 12/40\n",
      "39/39 [==============================] - 19s 488ms/step - loss: 0.2033 - accuracy: 0.9327 - val_loss: 0.0717 - val_accuracy: 0.9688\n",
      "Epoch 13/40\n",
      "39/39 [==============================] - 19s 480ms/step - loss: 0.2457 - accuracy: 0.9151 - val_loss: 0.3385 - val_accuracy: 0.9219\n",
      "Epoch 14/40\n",
      "39/39 [==============================] - 19s 489ms/step - loss: 0.1890 - accuracy: 0.9327 - val_loss: 2.2913 - val_accuracy: 0.2969\n",
      "Epoch 15/40\n",
      "39/39 [==============================] - 19s 482ms/step - loss: 0.2186 - accuracy: 0.9311 - val_loss: 0.9229 - val_accuracy: 0.4062\n",
      "Epoch 16/40\n",
      "39/39 [==============================] - ETA: 0s - loss: 0.2619 - accuracy: 0.9119Restoring model weights from the end of the best epoch: 12.\n",
      "39/39 [==============================] - 19s 483ms/step - loss: 0.2619 - accuracy: 0.9119 - val_loss: 0.3408 - val_accuracy: 0.7969\n",
      "Epoch 16: early stopping\n"
     ]
    }
   ],
   "source": [
    "train_steps = len(train_generator)//batch_size\n",
    "val_steps = len(val_generator)//batch_size\n",
    "\n",
    "earlystopping = callbacks.EarlyStopping(monitor =\"val_loss\", \n",
    "                                        mode =\"min\", patience = 4, \n",
    "                                        restore_best_weights = True, verbose=1,\n",
    "                                       start_from_epoch = 5)\n",
    "\n",
    "history = model.fit(\n",
    "    train_generator,\n",
    "    steps_per_epoch = train_steps,\n",
    "    validation_data = val_generator, \n",
    "    validation_steps = val_steps,\n",
    "    epochs = epochs,\n",
    "    callbacks = [earlystopping]\n",
    "  )"
   ]
  },
  {
   "cell_type": "markdown",
   "id": "72138e47",
   "metadata": {},
   "source": [
    "# Plotting the training & validation accuracy and loss"
   ]
  },
  {
   "cell_type": "code",
   "execution_count": 6,
   "id": "14f260bf",
   "metadata": {},
   "outputs": [
    {
     "data": {
      "image/png": "[encoded data removed]",
      "text/plain": [
       "<Figure size 1152x648 with 2 Axes>"
      ]
     },
     "metadata": {
      "needs_background": "light"
     },
     "output_type": "display_data"
    }
   ],
   "source": [
    "list_epochs = [i for i in range(len(history.history['val_loss']))]\n",
    "fig , ax = plt.subplots(1,2)\n",
    "train_acc = history.history['accuracy']\n",
    "train_loss = history.history['loss']\n",
    "val_acc = history.history['val_accuracy']\n",
    "val_loss = history.history['val_loss']\n",
    "fig.set_size_inches(16,9)\n",
    "\n",
    "ax[0].plot(list_epochs , train_acc , 'go-' , label = 'Training Accuracy')\n",
    "ax[0].plot(list_epochs , val_acc , 'ro-' , label = 'Validation Accuracy')\n",
    "ax[0].set_title('Training & Validation Accuracy')\n",
    "ax[0].legend()\n",
    "ax[0].set_xlabel(\"Epochs\")\n",
    "ax[0].set_ylabel(\"Accuracy\")\n",
    "\n",
    "ax[1].plot(list_epochs , train_loss , 'g-o' , label = 'Training Loss')\n",
    "ax[1].plot(list_epochs , val_loss , 'r-o' , label = 'Validation Loss')\n",
    "ax[1].set_title('Validation Accuracy & Loss')\n",
    "ax[1].legend()\n",
    "ax[1].set_xlabel(\"Epochs\")\n",
    "ax[1].set_ylabel(\"Loss\")\n",
    "plt.show()"
   ]
  },
  {
   "cell_type": "markdown",
   "id": "933f1de4",
   "metadata": {},
   "source": [
    "# Evaluate model on the test dataset"
   ]
  },
  {
   "cell_type": "code",
   "execution_count": 7,
   "id": "b8790d8a",
   "metadata": {},
   "outputs": [
    {
     "name": "stdout",
     "output_type": "stream",
     "text": [
      "4/4 [==============================] - 0s 93ms/step - loss: 0.0029 - accuracy: 1.0000\n",
      "Loss:  0.0029333739075809717\n",
      "Accuracy:  1.0\n"
     ]
    }
   ],
   "source": [
    "test_steps = len(test_generator)//batch_size\n",
    "\n",
    "score =  model.evaluate(test_generator, steps=test_steps)\n",
    "print('Loss: ', score[0])\n",
    "print('Accuracy: ', score[1])"
   ]
  },
  {
   "cell_type": "markdown",
   "id": "78d3da2f",
   "metadata": {},
   "source": [
    "# Evaluate model on 'WithMask' only dataset & 'WithoutMask' only dataset"
   ]
  },
  {
   "cell_type": "code",
   "execution_count": 8,
   "id": "fc9b3063",
   "metadata": {},
   "outputs": [
    {
     "name": "stdout",
     "output_type": "stream",
     "text": [
      "Found 625 images belonging to 2 classes.\n",
      "2/2 [==============================] - 0s 111ms/step - loss: 0.0053 - accuracy: 1.0000\n",
      "\n",
      "Loss (Only mask):  0.005327431485056877\n",
      "Accuracy (Only mask):  1.0\n",
      "\n",
      "Found 625 images belonging to 2 classes.\n",
      "2/2 [==============================] - 0s 119ms/step - loss: 0.1614 - accuracy: 1.0000\n",
      "\n",
      "Loss (Only no mask):  0.16138942539691925\n",
      "Accuracy (Only no mask):  1.0\n",
      "\n",
      "Average Accuracy:  1.0\n"
     ]
    }
   ],
   "source": [
    "test_mask_dir = './Test All Mask'\n",
    "\n",
    "test_mask_datagen = ImageDataGenerator(rescale=1.0/255)\n",
    "test_mask_generator = test_mask_datagen.flow_from_directory(\n",
    "    directory=test_mask_dir,\n",
    "    target_size=(resized_dim,resized_dim),\n",
    "    class_mode='categorical',\n",
    "    batch_size=batch_size,\n",
    "    shuffle = False\n",
    ")\n",
    "\n",
    "test_mask_steps = len(test_mask_generator)//batch_size\n",
    "\n",
    "mask_score =  model.evaluate(test_mask_generator, steps=test_mask_steps)\n",
    "print('')\n",
    "print('Loss (Only mask): ', mask_score[0])\n",
    "print('Accuracy (Only mask): ', mask_score[1])\n",
    "print('')\n",
    "\n",
    "test_nomask_dir = './Test No Mask'\n",
    "\n",
    "test_nomask_datagen = ImageDataGenerator(rescale=1.0/255)\n",
    "test_nomask_generator = test_nomask_datagen.flow_from_directory(\n",
    "    directory=test_nomask_dir,\n",
    "    target_size=(resized_dim,resized_dim),\n",
    "    class_mode='categorical',\n",
    "    batch_size=batch_size,\n",
    "    shuffle = False\n",
    ")\n",
    "\n",
    "test_nomask_steps = len(test_nomask_generator)//batch_size\n",
    "\n",
    "nomask_score =  model.evaluate(test_nomask_generator, steps=test_nomask_steps)\n",
    "print('')\n",
    "print('Loss (Only no mask): ', nomask_score[0])\n",
    "print('Accuracy (Only no mask): ', nomask_score[1])\n",
    "print('')\n",
    "\n",
    "print('Average Accuracy: ', (mask_score[1] + nomask_score[1]) / 2.0)"
   ]
  },
  {
   "cell_type": "markdown",
   "id": "f6c9d9d2",
   "metadata": {},
   "source": [
    "# Saving the model using pickle"
   ]
  },
  {
   "cell_type": "code",
   "execution_count": 2,
   "id": "6c99cc7c",
   "metadata": {},
   "outputs": [
    {
     "name": "stdout",
     "output_type": "stream",
     "text": [
      "Keras weights file (<HDF5 file \"variables.h5\" (mode r+)>) saving:\n",
      "...layers\\batch_normalization\n",
      "......vars\n",
      ".........0\n",
      ".........1\n",
      ".........2\n",
      ".........3\n",
      "...layers\\batch_normalization_1\n",
      "......vars\n",
      ".........0\n",
      ".........1\n",
      ".........2\n",
      ".........3\n",
      "...layers\\batch_normalization_2\n",
      "......vars\n",
      ".........0\n",
      ".........1\n",
      ".........2\n",
      ".........3\n",
      "...layers\\conv2d\n",
      "......vars\n",
      ".........0\n",
      ".........1\n",
      "...layers\\conv2d_1\n",
      "......vars\n",
      ".........0\n",
      ".........1\n",
      "...layers\\conv2d_2\n",
      "......vars\n",
      ".........0\n",
      ".........1\n",
      "...layers\\dense\n",
      "......vars\n",
      ".........0\n",
      ".........1\n",
      "...layers\\dense_1\n",
      "......vars\n",
      ".........0\n",
      ".........1\n",
      "...layers\\dropout\n",
      "......vars\n",
      "...layers\\dropout_1\n",
      "......vars\n",
      "...layers\\dropout_2\n",
      "......vars\n",
      "...layers\\dropout_3\n",
      "......vars\n",
      "...layers\\flatten\n",
      "......vars\n",
      "...layers\\max_pooling2d\n",
      "......vars\n",
      "...layers\\max_pooling2d_1\n",
      "......vars\n",
      "...layers\\max_pooling2d_2\n",
      "......vars\n",
      "...vars\n",
      "Keras model archive saving:\n",
      "File Name                                             Modified             Size\n",
      "config.json                                    2023-01-22 14:57:29         6356\n",
      "metadata.json                                  2023-01-22 14:57:29           64\n",
      "variables.h5                                   2023-01-22 14:57:30       603672\n"
     ]
    }
   ],
   "source": [
    "import pickle\n",
    "with open(\"final_model.pkl\", \"wb\") as f:\n",
    "  pickle.dump(model, f)"
   ]
  }
 ],
 "metadata": {
  "kernelspec": {
   "display_name": "Python 3 (ipykernel)",
   "language": "python",
   "name": "python3"
  },
  "language_info": {
   "codemirror_mode": {
    "name": "ipython",
    "version": 3
   },
   "file_extension": ".py",
   "mimetype": "text/x-python",
   "name": "python",
   "nbconvert_exporter": "python",
   "pygments_lexer": "ipython3",
   "version": "3.9.7"
  }
 },
 "nbformat": 4,
 "nbformat_minor": 5
}
